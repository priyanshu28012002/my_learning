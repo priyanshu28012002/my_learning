{
 "cells": [
  {
   "cell_type": "code",
   "execution_count": 9,
   "id": "44775340",
   "metadata": {},
   "outputs": [
    {
     "name": "stdout",
     "output_type": "stream",
     "text": [
      "5\n",
      "Slope (m): 0.519203413940256\n",
      "Intercept (b): 16.125177809388333\n"
     ]
    }
   ],
   "source": [
    "import pandas as pd\n",
    "\n",
    "# Load data\n",
    "\n",
    "x = {52,84,74,76,98}\n",
    "y = {51,42,43,63,81}\n",
    "# Calculate necessary sums\n",
    "n = len(x)\n",
    "print(n)\n",
    "sum_x = sum(x)\n",
    "sum_y = sum(y)\n",
    "sum_xy = sum(xi * yi for xi, yi in zip(x, y))\n",
    "sum_x_squared = sum(xi**2 for xi in x)\n",
    "\n",
    "# Calculate slope (m) using the formula\n",
    "# m = (n * sum_xy - sum_x * sum_y) /\n",
    "#     (n * sum_x_squared - sum_x**2)\n",
    "m = (n * sum_xy - sum_x * sum_y) / (n * sum_x_squared - sum_x**2)\n",
    "\n",
    "# Calculate intercept (b) using the formula\n",
    "b = (sum_y - m * sum_x) / n\n",
    "\n",
    "print(f\"Slope (m): {m}\")\n",
    "print(f\"Intercept (b): {b}\")"
   ]
  }
 ],
 "metadata": {
  "kernelspec": {
   "display_name": "Python 3",
   "language": "python",
   "name": "python3"
  },
  "language_info": {
   "codemirror_mode": {
    "name": "ipython",
    "version": 3
   },
   "file_extension": ".py",
   "mimetype": "text/x-python",
   "name": "python",
   "nbconvert_exporter": "python",
   "pygments_lexer": "ipython3",
   "version": "3.10.12"
  }
 },
 "nbformat": 4,
 "nbformat_minor": 5
}
